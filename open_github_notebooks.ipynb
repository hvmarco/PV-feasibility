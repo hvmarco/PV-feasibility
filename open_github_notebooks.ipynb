{
  "nbformat": 4,
  "nbformat_minor": 0,
  "metadata": {
    "colab": {
      "provenance": [],
      "include_colab_link": true
    },
    "kernelspec": {
      "display_name": "Python 3",
      "name": "python3"
    }
  },
  "cells": [
    {
      "cell_type": "markdown",
      "metadata": {
        "id": "view-in-github",
        "colab_type": "text"
      },
      "source": [
        "<a href=\"https://colab.research.google.com/github/hvmarco/PV-feasibility/blob/main/open_github_notebooks.ipynb\" target=\"_parent\"><img src=\"https://colab.research.google.com/assets/colab-badge.svg\" alt=\"Open In Colab\"/></a>"
      ]
    },
    {
      "cell_type": "markdown",
      "metadata": {
        "id": "sArZQhfcvWfF"
      },
      "source": [
        "From [this question](https://stackoverflow.com/q/62596466/6729010)\n",
        "\n",
        "The key part is to copy a notebook to Google Drive and open it from there."
      ]
    },
    {
      "cell_type": "code",
      "metadata": {
        "id": "lIYdn1woOS1n"
      },
      "source": [
        "!pip install kora -q  # my library to help get ID\n",
        "from kora.xattr import get_id"
      ],
      "execution_count": null,
      "outputs": []
    },
    {
      "cell_type": "code",
      "metadata": {
        "id": "bCB0zvlFu9kH",
        "colab": {
          "base_uri": "https://localhost:8080/",
          "height": 69
        },
        "outputId": "bbec07c2-bb2f-4c05-e4bb-c2751cc29051"
      },
      "source": [
        "# get all 3 notebooks\n",
        "!npx degit n-waves/multifit/notebooks -f"
      ],
      "execution_count": null,
      "outputs": [
        {
          "output_type": "stream",
          "text": [
            "\u001b[K\u001b[?25hnpx: installed 1 in 2.109s\n",
            "\u001b[36m> destination directory is not empty. Using --force, continuing\u001b[39m\n",
            "\u001b[36m> cloned \u001b[1mn-waves/multifit\u001b[22m#\u001b[1mmaster\u001b[22m\u001b[39m\n"
          ],
          "name": "stdout"
        }
      ]
    },
    {
      "cell_type": "code",
      "metadata": {
        "id": "_ersMMwQu_85",
        "colab": {
          "base_uri": "https://localhost:8080/",
          "height": 69
        },
        "outputId": "ee3790f1-77d4-470e-8ec7-b289e3791d85"
      },
      "source": [
        "!ls -al *.ipynb"
      ],
      "execution_count": null,
      "outputs": [
        {
          "output_type": "stream",
          "text": [
            "-rw-r--r-- 1 root root 54310 Nov 12  2019 CLS-DE.ipynb\n",
            "-rw-r--r-- 1 root root 70907 Nov 12  2019 CLS-JA.ipynb\n",
            "-rw-r--r-- 1 root root 57989 Nov 12  2019 MLDoc-JA-multifit_fp16.ipynb\n"
          ],
          "name": "stdout"
        }
      ]
    },
    {
      "cell_type": "code",
      "metadata": {
        "id": "vt0v3Yh7wSBd",
        "colab": {
          "base_uri": "https://localhost:8080/",
          "height": 124
        },
        "outputId": "8f3c720a-2e48-44ff-9a10-c975a73f025a"
      },
      "source": [
        "from google.colab import drive\n",
        "drive.mount('/content/drive')"
      ],
      "execution_count": null,
      "outputs": [
        {
          "output_type": "stream",
          "text": [
            "Go to this URL in a browser: https://accounts.google.com/o/oauth2/auth?client_id=947318989803-6bn6qk8qdgf4n4g3pfee6491hc0brc4i.apps.googleusercontent.com&redirect_uri=urn%3aietf%3awg%3aoauth%3a2.0%3aoob&response_type=code&scope=email%20https%3a%2f%2fwww.googleapis.com%2fauth%2fdocs.test%20https%3a%2f%2fwww.googleapis.com%2fauth%2fdrive%20https%3a%2f%2fwww.googleapis.com%2fauth%2fdrive.photos.readonly%20https%3a%2f%2fwww.googleapis.com%2fauth%2fpeopleapi.readonly\n",
            "\n",
            "Enter your authorization code:\n",
            "··········\n",
            "Mounted at /content/drive\n"
          ],
          "name": "stdout"
        }
      ]
    },
    {
      "cell_type": "code",
      "metadata": {
        "id": "bYypFwwvwMY-"
      },
      "source": [
        "# copy a notebook to Drive\n",
        "fname = 'CLS-DE.ipynb'\n",
        "!cp $fname \"drive/My Drive/Colab Notebooks/\""
      ],
      "execution_count": null,
      "outputs": []
    },
    {
      "cell_type": "code",
      "metadata": {
        "id": "Mi2l4EXZwsg1",
        "colab": {
          "base_uri": "https://localhost:8080/",
          "height": 36
        },
        "outputId": "03d4345e-51a2-4984-e50a-349c8e181cd0"
      },
      "source": [
        "# get its id\n",
        "fid = get_id(\"drive/My Drive/Colab Notebooks/\"+fname)\n",
        "fid"
      ],
      "execution_count": null,
      "outputs": [
        {
          "output_type": "execute_result",
          "data": {
            "application/vnd.google.colaboratory.intrinsic": {
              "type": "string"
            },
            "text/plain": [
              "'1uUBWvWoS1IvFu-MJeLTVZ5TC_HU5roY3'"
            ]
          },
          "metadata": {
            "tags": []
          },
          "execution_count": 8
        }
      ]
    },
    {
      "cell_type": "code",
      "metadata": {
        "id": "Czm0Sh9bw1bq",
        "colab": {
          "base_uri": "https://localhost:8080/",
          "height": 34
        },
        "outputId": "efada8a6-8959-40af-c9ba-e561042c6671"
      },
      "source": [
        "# create a link to open it\n",
        "print(\"https://colab.research.google.com/drive/\"+fid)"
      ],
      "execution_count": null,
      "outputs": [
        {
          "output_type": "stream",
          "text": [
            "https://colab.research.google.com/drive/1uUBWvWoS1IvFu-MJeLTVZ5TC_HU5roY3\n"
          ],
          "name": "stdout"
        }
      ]
    },
    {
      "cell_type": "code",
      "metadata": {
        "id": "Wk4RHJksw-9O"
      },
      "source": [
        "# click them to open\n",
        "# Add this line at the top of it, to get all the other files.\n",
        "!npx degit n-waves/multifit"
      ],
      "execution_count": null,
      "outputs": []
    },
    {
      "cell_type": "markdown",
      "metadata": {
        "id": "x5wJv4r-x1vp"
      },
      "source": [
        "You can do the same with the other 2 notebooks too."
      ]
    },
    {
      "cell_type": "code",
      "metadata": {
        "id": "WvnLcoS0x4Wu"
      },
      "source": [],
      "execution_count": null,
      "outputs": []
    }
  ]
}