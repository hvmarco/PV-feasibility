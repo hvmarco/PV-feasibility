{
  "cells": [
    {
      "cell_type": "markdown",
      "metadata": {
        "id": "view-in-github",
        "colab_type": "text"
      },
      "source": [
        "<a href=\"https://colab.research.google.com/github/hvmarco/PV-feasibility/blob/main/project_marcohernandez.ipynb\" target=\"_parent\"><img src=\"https://colab.research.google.com/assets/colab-badge.svg\" alt=\"Open In Colab\"/></a>"
      ]
    },
    {
      "cell_type": "markdown",
      "id": "c2a4387f-baa1-4cd9-9a97-5458d4ac8216",
      "metadata": {
        "id": "c2a4387f-baa1-4cd9-9a97-5458d4ac8216"
      },
      "source": [
        "# PV feasibility analysis\n",
        "This is the project for the course <i>Python Foundations for Spatial Analysis (2024)</i> taught by Ujaval Gandhi and: Vigna Purohi at Spatial Thoughts."
      ]
    },
    {
      "cell_type": "markdown",
      "source": [
        "## Setup and data download"
      ],
      "metadata": {
        "id": "nct_k_Ntb3z-"
      },
      "id": "nct_k_Ntb3z-"
    },
    {
      "cell_type": "markdown",
      "source": [
        "First we need to install some additional libraries and import them."
      ],
      "metadata": {
        "id": "St20S2qaXKFJ"
      },
      "id": "St20S2qaXKFJ"
    },
    {
      "cell_type": "code",
      "execution_count": 1,
      "id": "4293820e-6f02-4135-931a-369585794f03",
      "metadata": {
        "id": "4293820e-6f02-4135-931a-369585794f03"
      },
      "outputs": [],
      "source": [
        "#install and import necessary packages\n",
        "%%capture\n",
        "# use %%capture to prevent printing the output of the cell\n",
        "!pip install numpy-financial #to use financial functions previously in numpy\n",
        "!pip install pvlib[optional]  #toolbox for simulating the performance of photovoltaic energy systems https://pvlib-python.readthedocs.io/en/stable/index.html#\n",
        "\n",
        "import numpy as np\n",
        "import numpy_financial as npf\n",
        "import matplotlib.pyplot as plt\n",
        "import pandas as pd\n",
        "import geopandas as gpd\n",
        "import pvlib\n"
      ]
    },
    {
      "cell_type": "markdown",
      "source": [
        "Since we will be using some files with the data (location, components, etc), we clone the repository in the colab environment to import them."
      ],
      "metadata": {
        "id": "1cZf9dKEa3RH"
      },
      "id": "1cZf9dKEa3RH"
    },
    {
      "cell_type": "code",
      "source": [
        "%%capture\n",
        "#clone the repository to include the files needed\n",
        "!git clone https://github.com/hvmarco/PV-feasibility.git\n"
      ],
      "metadata": {
        "id": "0PaW9nEBaGZz"
      },
      "id": "0PaW9nEBaGZz",
      "execution_count": 2,
      "outputs": []
    },
    {
      "cell_type": "code",
      "source": [
        "#change the path in colab so we can access the files\n",
        "DATA_FOLDER = 'PV-feasibility'\n",
        "%cd $DATA_FOLDER"
      ],
      "metadata": {
        "colab": {
          "base_uri": "https://localhost:8080/"
        },
        "id": "rmBBDLVMc3WZ",
        "outputId": "48d9d374-17cf-4483-fae8-b40e52e56630"
      },
      "id": "rmBBDLVMc3WZ",
      "execution_count": 3,
      "outputs": [
        {
          "output_type": "stream",
          "name": "stdout",
          "text": [
            "/content/PV-feasibility\n"
          ]
        }
      ]
    },
    {
      "cell_type": "markdown",
      "source": [
        "## Define location"
      ],
      "metadata": {
        "id": "CNBQfGu8Wm58"
      },
      "id": "CNBQfGu8Wm58"
    },
    {
      "cell_type": "code",
      "source": [
        "import time\n",
        "for x in range(3):\n",
        "    print(x)\n",
        "    time.sleep(2) #like this we can ensure that we only send 30 requests per minute"
      ],
      "metadata": {
        "colab": {
          "base_uri": "https://localhost:8080/"
        },
        "id": "ocBxcPHsfOLx",
        "outputId": "48b628c2-9ded-4ca2-d9b1-115034cf6741"
      },
      "id": "ocBxcPHsfOLx",
      "execution_count": 10,
      "outputs": [
        {
          "output_type": "stream",
          "name": "stdout",
          "text": [
            "0\n",
            "1\n",
            "2\n"
          ]
        }
      ]
    },
    {
      "cell_type": "code",
      "source": [
        "# PVGIS has a limit of 30 calls/second\n",
        "url_base = f\"https://re.jrc.ec.europa.eu/api/MRcalc?\"\n",
        "\n",
        "lat=45\n",
        "lon=8\n",
        "\n",
        "#----- set API call parameters ------------------\n",
        "pvgis_params = dict(\n",
        "    lat=lat,\n",
        "    lon=lon,\n",
        "    usehorizon=1,\n",
        "    raddatabase='PVGIS-ERA5',\n",
        "    horirrad=1,\n",
        "    avtemp=1,\n",
        "    outputformat='json')\n",
        "\n",
        "params = \"&\".join([f'{key}={value}' for key, value in pvgis_params.items()])\n",
        "url_MRcalc = f'{url_base}&{params}'\n",
        "\n",
        "pvgis_params"
      ],
      "metadata": {
        "colab": {
          "base_uri": "https://localhost:8080/"
        },
        "id": "owfsDPRVmfxH",
        "outputId": "b57dd0e3-b88d-4495-e32c-4b58e63ddc11"
      },
      "id": "owfsDPRVmfxH",
      "execution_count": 13,
      "outputs": [
        {
          "output_type": "execute_result",
          "data": {
            "text/plain": [
              "{'lat': 45,\n",
              " 'lon': 8,\n",
              " 'usehorizon': 1,\n",
              " 'raddatabase': 'PVGIS-ERA5',\n",
              " 'horirrad': 1,\n",
              " 'avtemp': 1,\n",
              " 'outputformat': 'json'}"
            ]
          },
          "metadata": {},
          "execution_count": 13
        }
      ]
    },
    {
      "cell_type": "code",
      "source": [
        "parameters = {\n",
        "        'lat': 'source_coordinates[0]',\n",
        "        'lon' : 'source_coordinates[1]',\n",
        "        'usehorizon' : 1,\n",
        "        'raddatabase' : 'PVGIS-ERA5',\n",
        "        'horirrad' : 1,\n",
        "        'avtemp' : 1,\n",
        "        'outputformat' :'json'\n",
        "    }\n",
        "\n",
        "params = \"&\".join([f'{key}={value}' for key, value in parameters.items()])\n",
        "url_MRcalc = f'{url_base}&{params}'\n",
        "params"
      ],
      "metadata": {
        "id": "o3vJL4jMgi87",
        "outputId": "fd17991c-4835-4ec1-dad2-370c23a70fb8",
        "colab": {
          "base_uri": "https://localhost:8080/",
          "height": 36
        }
      },
      "id": "o3vJL4jMgi87",
      "execution_count": 12,
      "outputs": [
        {
          "output_type": "execute_result",
          "data": {
            "text/plain": [
              "'lat=source_coordinates[0]&lon=source_coordinates[1]&usehorizon=1&raddatabase=PVGIS-ERA5&horirrad=1&avtemp=1&outputformat=json'"
            ],
            "application/vnd.google.colaboratory.intrinsic+json": {
              "type": "string"
            }
          },
          "metadata": {},
          "execution_count": 12
        }
      ]
    },
    {
      "cell_type": "code",
      "source": [
        "stockholm = (59.3293, 18.0686)\n",
        "\n",
        "url_base = f\"https://re.jrc.ec.europa.eu/api/MRcalc?\" #specific for monthly radiation\n",
        "    # list of parameters to send to the API\n",
        "pvgis_params = {\n",
        "            'lat': stockholm[0],\n",
        "            'lon' : stockholm[1],\n",
        "            'usehorizon' : 1,\n",
        "            'raddatabase' : 'PVGIS-ERA5',\n",
        "            'horirrad' : 1,\n",
        "            'avtemp' : 1,\n",
        "            'outputformat' :'json'\n",
        "            }\n",
        "params = \"&\".join([f'{key}={value}' for key, value in pvgis_params.items()]) #concatenate the elements\n",
        "url_MRcalc = f'{url_base}&{params}'\n",
        "url_MRcalc\n",
        "\n",
        "#response = requests.get(url_MRcalc)\n",
        "#response"
      ],
      "metadata": {
        "id": "8aTb4xeFkOUY",
        "outputId": "ecab8435-97e5-4501-a721-19a0cd3ebe9a",
        "colab": {
          "base_uri": "https://localhost:8080/",
          "height": 36
        }
      },
      "id": "8aTb4xeFkOUY",
      "execution_count": 21,
      "outputs": [
        {
          "output_type": "execute_result",
          "data": {
            "text/plain": [
              "'https://re.jrc.ec.europa.eu/api/MRcalc?&lat=59.3293&lon=18.0686&usehorizon=1&raddatabase=PVGIS-ERA5&horirrad=1&avtemp=1&outputformat=json'"
            ],
            "application/vnd.google.colaboratory.intrinsic+json": {
              "type": "string"
            }
          },
          "metadata": {},
          "execution_count": 21
        }
      ]
    },
    {
      "cell_type": "code",
      "source": [
        "import json  # To convert a JSON strings from APIS to Python objects\n",
        "import requests # The requests module allows you to send HTTP requests and parse the responses using Python.\n",
        "import time\n",
        "\n",
        "stockholm = (59.3293, 18.0686)\n",
        "\n",
        "def get_pvgis_tmy(source_coordinates):\n",
        "    url_base = f\"https://re.jrc.ec.europa.eu/api/MRcalc?\" #specific for monthly radiation\n",
        "    # list of parameters to send to the API\n",
        "    pvgis_params = {\n",
        "            'lat': source_coordinates[0],\n",
        "            'lon' : source_coordinates[1],\n",
        "            'usehorizon' : 1,\n",
        "            'raddatabase' : 'PVGIS-ERA5',\n",
        "            'horirrad' : 1,\n",
        "            'avtemp' : 1,\n",
        "            'outputformat' :'json'\n",
        "            }\n",
        "    params = \"&\".join([f'{key}={value}' for key, value in pvgis_params.items()]) #concatenate the elements\n",
        "    url_MRcalc = f'{url_base}&{params}'\n",
        "\n",
        "    response = requests.get(url_MRcalc)\n",
        "\n",
        "    if response.status_code == 200:\n",
        "        data = response.json()\n",
        "        #row_json = json.loads(response.text)\n",
        "        return data\n",
        "    else:\n",
        "        print('Request failed.')\n",
        "        return -9999\n",
        "\n",
        "get_month_rad(stockholm)\n"
      ],
      "metadata": {
        "colab": {
          "base_uri": "https://localhost:8080/"
        },
        "id": "QyM31fDzk1di",
        "outputId": "42607df5-7429-4ad9-8ce6-05b7ac4fe51f"
      },
      "id": "QyM31fDzk1di",
      "execution_count": 22,
      "outputs": [
        {
          "output_type": "execute_result",
          "data": {
            "text/plain": [
              "{'inputs': {'location': {'latitude': 59.3293,\n",
              "   'longitude': 18.0686,\n",
              "   'elevation': 18.0},\n",
              "  'meteo_data': {'radiation_db': 'PVGIS-ERA5',\n",
              "   'meteo_db': 'ERA-Interim',\n",
              "   'year_min': 2005,\n",
              "   'year_max': 2016,\n",
              "   'use_horizon': True,\n",
              "   'horizon_db': None,\n",
              "   'horizon_data': 'DEM-calculated'},\n",
              "  'plane': {'fixed_horizontal': {'slope': {'value': 0, 'optimal': '-'},\n",
              "    'azimuth': {'value': '-', 'optimal': '-'}}}},\n",
              " 'outputs': {'monthly': [{'year': 2005,\n",
              "    'month': 1,\n",
              "    'H(h)_m': 11.46,\n",
              "    'T2m': 1.4},\n",
              "   {'year': 2005, 'month': 2, 'H(h)_m': 26.8, 'T2m': -2.1},\n",
              "   {'year': 2005, 'month': 3, 'H(h)_m': 83.09, 'T2m': -2.0},\n",
              "   {'year': 2005, 'month': 4, 'H(h)_m': 136.91, 'T2m': 5.6},\n",
              "   {'year': 2005, 'month': 5, 'H(h)_m': 161.66, 'T2m': 10.4},\n",
              "   {'year': 2005, 'month': 6, 'H(h)_m': 165.35, 'T2m': 14.8},\n",
              "   {'year': 2005, 'month': 7, 'H(h)_m': 173.29, 'T2m': 18.6},\n",
              "   {'year': 2005, 'month': 8, 'H(h)_m': 129.96, 'T2m': 16.3},\n",
              "   {'year': 2005, 'month': 9, 'H(h)_m': 88.06, 'T2m': 13.6},\n",
              "   {'year': 2005, 'month': 10, 'H(h)_m': 47.24, 'T2m': 8.4},\n",
              "   {'year': 2005, 'month': 11, 'H(h)_m': 13.55, 'T2m': 4.3},\n",
              "   {'year': 2005, 'month': 12, 'H(h)_m': 6.49, 'T2m': 0.0},\n",
              "   {'year': 2006, 'month': 1, 'H(h)_m': 10.7, 'T2m': -1.8},\n",
              "   {'year': 2006, 'month': 2, 'H(h)_m': 26.08, 'T2m': -2.6},\n",
              "   {'year': 2006, 'month': 3, 'H(h)_m': 73.05, 'T2m': -3.8},\n",
              "   {'year': 2006, 'month': 4, 'H(h)_m': 118.31, 'T2m': 4.6},\n",
              "   {'year': 2006, 'month': 5, 'H(h)_m': 168.89, 'T2m': 10.1},\n",
              "   {'year': 2006, 'month': 6, 'H(h)_m': 192.88, 'T2m': 16.7},\n",
              "   {'year': 2006, 'month': 7, 'H(h)_m': 186.78, 'T2m': 20.1},\n",
              "   {'year': 2006, 'month': 8, 'H(h)_m': 133.88, 'T2m': 18.0},\n",
              "   {'year': 2006, 'month': 9, 'H(h)_m': 84.07, 'T2m': 15.2},\n",
              "   {'year': 2006, 'month': 10, 'H(h)_m': 33.58, 'T2m': 9.3},\n",
              "   {'year': 2006, 'month': 11, 'H(h)_m': 15.05, 'T2m': 5.0},\n",
              "   {'year': 2006, 'month': 12, 'H(h)_m': 7.35, 'T2m': 4.6},\n",
              "   {'year': 2007, 'month': 1, 'H(h)_m': 11.94, 'T2m': 0.6},\n",
              "   {'year': 2007, 'month': 2, 'H(h)_m': 22.31, 'T2m': -2.8},\n",
              "   {'year': 2007, 'month': 3, 'H(h)_m': 74.49, 'T2m': 3.8},\n",
              "   {'year': 2007, 'month': 4, 'H(h)_m': 135.01, 'T2m': 7.1},\n",
              "   {'year': 2007, 'month': 5, 'H(h)_m': 154.72, 'T2m': 11.5},\n",
              "   {'year': 2007, 'month': 6, 'H(h)_m': 176.18, 'T2m': 15.9},\n",
              "   {'year': 2007, 'month': 7, 'H(h)_m': 154.63, 'T2m': 17.0},\n",
              "   {'year': 2007, 'month': 8, 'H(h)_m': 131.22, 'T2m': 17.0},\n",
              "   {'year': 2007, 'month': 9, 'H(h)_m': 77.05, 'T2m': 12.0},\n",
              "   {'year': 2007, 'month': 10, 'H(h)_m': 37.62, 'T2m': 7.0},\n",
              "   {'year': 2007, 'month': 11, 'H(h)_m': 14.26, 'T2m': 1.9},\n",
              "   {'year': 2007, 'month': 12, 'H(h)_m': 5.94, 'T2m': 1.4},\n",
              "   {'year': 2008, 'month': 1, 'H(h)_m': 9.25, 'T2m': 2.2},\n",
              "   {'year': 2008, 'month': 2, 'H(h)_m': 31.5, 'T2m': 2.6},\n",
              "   {'year': 2008, 'month': 3, 'H(h)_m': 73.1, 'T2m': 1.4},\n",
              "   {'year': 2008, 'month': 4, 'H(h)_m': 124.97, 'T2m': 6.3},\n",
              "   {'year': 2008, 'month': 5, 'H(h)_m': 179.48, 'T2m': 11.5},\n",
              "   {'year': 2008, 'month': 6, 'H(h)_m': 192.43, 'T2m': 15.7},\n",
              "   {'year': 2008, 'month': 7, 'H(h)_m': 183.42, 'T2m': 17.9},\n",
              "   {'year': 2008, 'month': 8, 'H(h)_m': 109.54, 'T2m': 15.5},\n",
              "   {'year': 2008, 'month': 9, 'H(h)_m': 62.4, 'T2m': 11.4},\n",
              "   {'year': 2008, 'month': 10, 'H(h)_m': 37.36, 'T2m': 8.0},\n",
              "   {'year': 2008, 'month': 11, 'H(h)_m': 14.25, 'T2m': 3.0},\n",
              "   {'year': 2008, 'month': 12, 'H(h)_m': 5.74, 'T2m': 0.9},\n",
              "   {'year': 2009, 'month': 1, 'H(h)_m': 9.64, 'T2m': -1.2},\n",
              "   {'year': 2009, 'month': 2, 'H(h)_m': 27.54, 'T2m': -2.4},\n",
              "   {'year': 2009, 'month': 3, 'H(h)_m': 68.07, 'T2m': 1.0},\n",
              "   {'year': 2009, 'month': 4, 'H(h)_m': 134.75, 'T2m': 6.9},\n",
              "   {'year': 2009, 'month': 5, 'H(h)_m': 173.27, 'T2m': 11.3},\n",
              "   {'year': 2009, 'month': 6, 'H(h)_m': 168.21, 'T2m': 13.4},\n",
              "   {'year': 2009, 'month': 7, 'H(h)_m': 158.77, 'T2m': 17.3},\n",
              "   {'year': 2009, 'month': 8, 'H(h)_m': 143.45, 'T2m': 17.0},\n",
              "   {'year': 2009, 'month': 9, 'H(h)_m': 91.71, 'T2m': 13.1},\n",
              "   {'year': 2009, 'month': 10, 'H(h)_m': 40.52, 'T2m': 5.4},\n",
              "   {'year': 2009, 'month': 11, 'H(h)_m': 9.27, 'T2m': 5.4},\n",
              "   {'year': 2009, 'month': 12, 'H(h)_m': 5.83, 'T2m': -2.2},\n",
              "   {'year': 2010, 'month': 1, 'H(h)_m': 10.3, 'T2m': -6.4},\n",
              "   {'year': 2010, 'month': 2, 'H(h)_m': 27.01, 'T2m': -5.4},\n",
              "   {'year': 2010, 'month': 3, 'H(h)_m': 74.85, 'T2m': -0.7},\n",
              "   {'year': 2010, 'month': 4, 'H(h)_m': 116.32, 'T2m': 4.9},\n",
              "   {'year': 2010, 'month': 5, 'H(h)_m': 164.17, 'T2m': 10.1},\n",
              "   {'year': 2010, 'month': 6, 'H(h)_m': 183.85, 'T2m': 14.7},\n",
              "   {'year': 2010, 'month': 7, 'H(h)_m': 171.08, 'T2m': 20.5},\n",
              "   {'year': 2010, 'month': 8, 'H(h)_m': 113.42, 'T2m': 16.6},\n",
              "   {'year': 2010, 'month': 9, 'H(h)_m': 75.97, 'T2m': 11.6},\n",
              "   {'year': 2010, 'month': 10, 'H(h)_m': 42.37, 'T2m': 5.9},\n",
              "   {'year': 2010, 'month': 11, 'H(h)_m': 13.78, 'T2m': -0.1},\n",
              "   {'year': 2010, 'month': 12, 'H(h)_m': 7.08, 'T2m': -5.7},\n",
              "   {'year': 2011, 'month': 1, 'H(h)_m': 11.61, 'T2m': -2.2},\n",
              "   {'year': 2011, 'month': 2, 'H(h)_m': 28.48, 'T2m': -4.8},\n",
              "   {'year': 2011, 'month': 3, 'H(h)_m': 85.15, 'T2m': 0.9},\n",
              "   {'year': 2011, 'month': 4, 'H(h)_m': 126.2, 'T2m': 7.8},\n",
              "   {'year': 2011, 'month': 5, 'H(h)_m': 176.01, 'T2m': 11.3},\n",
              "   {'year': 2011, 'month': 6, 'H(h)_m': 180.65, 'T2m': 16.5},\n",
              "   {'year': 2011, 'month': 7, 'H(h)_m': 153.45, 'T2m': 18.5},\n",
              "   {'year': 2011, 'month': 8, 'H(h)_m': 129.26, 'T2m': 16.6},\n",
              "   {'year': 2011, 'month': 9, 'H(h)_m': 78.95, 'T2m': 13.8},\n",
              "   {'year': 2011, 'month': 10, 'H(h)_m': 45.31, 'T2m': 8.4},\n",
              "   {'year': 2011, 'month': 11, 'H(h)_m': 13.03, 'T2m': 5.5},\n",
              "   {'year': 2011, 'month': 12, 'H(h)_m': 7.0, 'T2m': 2.2},\n",
              "   {'year': 2012, 'month': 1, 'H(h)_m': 11.01, 'T2m': -1.3},\n",
              "   {'year': 2012, 'month': 2, 'H(h)_m': 33.25, 'T2m': -2.7},\n",
              "   {'year': 2012, 'month': 3, 'H(h)_m': 79.02, 'T2m': 3.9},\n",
              "   {'year': 2012, 'month': 4, 'H(h)_m': 111.02, 'T2m': 4.5},\n",
              "   {'year': 2012, 'month': 5, 'H(h)_m': 173.98, 'T2m': 10.8},\n",
              "   {'year': 2012, 'month': 6, 'H(h)_m': 156.51, 'T2m': 13.4},\n",
              "   {'year': 2012, 'month': 7, 'H(h)_m': 162.62, 'T2m': 17.0},\n",
              "   {'year': 2012, 'month': 8, 'H(h)_m': 122.07, 'T2m': 16.1},\n",
              "   {'year': 2012, 'month': 9, 'H(h)_m': 75.21, 'T2m': 12.5},\n",
              "   {'year': 2012, 'month': 10, 'H(h)_m': 35.19, 'T2m': 6.5},\n",
              "   {'year': 2012, 'month': 11, 'H(h)_m': 13.02, 'T2m': 4.1},\n",
              "   {'year': 2012, 'month': 12, 'H(h)_m': 6.05, 'T2m': -2.6},\n",
              "   {'year': 2013, 'month': 1, 'H(h)_m': 11.31, 'T2m': -3.5},\n",
              "   {'year': 2013, 'month': 2, 'H(h)_m': 27.73, 'T2m': -1.5},\n",
              "   {'year': 2013, 'month': 3, 'H(h)_m': 89.74, 'T2m': -3.1},\n",
              "   {'year': 2013, 'month': 4, 'H(h)_m': 129.31, 'T2m': 4.5},\n",
              "   {'year': 2013, 'month': 5, 'H(h)_m': 168.6, 'T2m': 12.3},\n",
              "   {'year': 2013, 'month': 6, 'H(h)_m': 177.86, 'T2m': 15.8},\n",
              "   {'year': 2013, 'month': 7, 'H(h)_m': 165.42, 'T2m': 18.0},\n",
              "   {'year': 2013, 'month': 8, 'H(h)_m': 142.51, 'T2m': 16.8},\n",
              "   {'year': 2013, 'month': 9, 'H(h)_m': 87.47, 'T2m': 12.1},\n",
              "   {'year': 2013, 'month': 10, 'H(h)_m': 40.62, 'T2m': 8.4},\n",
              "   {'year': 2013, 'month': 11, 'H(h)_m': 14.51, 'T2m': 3.8},\n",
              "   {'year': 2013, 'month': 12, 'H(h)_m': 6.0, 'T2m': 3.2},\n",
              "   {'year': 2014, 'month': 1, 'H(h)_m': 8.47, 'T2m': -1.4},\n",
              "   {'year': 2014, 'month': 2, 'H(h)_m': 22.42, 'T2m': 1.9},\n",
              "   {'year': 2014, 'month': 3, 'H(h)_m': 73.65, 'T2m': 3.8},\n",
              "   {'year': 2014, 'month': 4, 'H(h)_m': 129.73, 'T2m': 6.4},\n",
              "   {'year': 2014, 'month': 5, 'H(h)_m': 150.95, 'T2m': 10.5},\n",
              "   {'year': 2014, 'month': 6, 'H(h)_m': 164.79, 'T2m': 13.7},\n",
              "   {'year': 2014, 'month': 7, 'H(h)_m': 189.47, 'T2m': 19.7},\n",
              "   {'year': 2014, 'month': 8, 'H(h)_m': 135.76, 'T2m': 16.6},\n",
              "   {'year': 2014, 'month': 9, 'H(h)_m': 84.23, 'T2m': 12.7},\n",
              "   {'year': 2014, 'month': 10, 'H(h)_m': 30.91, 'T2m': 9.0},\n",
              "   {'year': 2014, 'month': 11, 'H(h)_m': 8.41, 'T2m': 4.8},\n",
              "   {'year': 2014, 'month': 12, 'H(h)_m': 6.98, 'T2m': 0.2},\n",
              "   {'year': 2015, 'month': 1, 'H(h)_m': 9.8, 'T2m': 0.5},\n",
              "   {'year': 2015, 'month': 2, 'H(h)_m': 27.0, 'T2m': 1.1},\n",
              "   {'year': 2015, 'month': 3, 'H(h)_m': 66.03, 'T2m': 2.8},\n",
              "   {'year': 2015, 'month': 4, 'H(h)_m': 132.78, 'T2m': 6.7},\n",
              "   {'year': 2015, 'month': 5, 'H(h)_m': 154.53, 'T2m': 10.0},\n",
              "   {'year': 2015, 'month': 6, 'H(h)_m': 166.59, 'T2m': 14.3},\n",
              "   {'year': 2015, 'month': 7, 'H(h)_m': 153.07, 'T2m': 16.6},\n",
              "   {'year': 2015, 'month': 8, 'H(h)_m': 156.06, 'T2m': 17.5},\n",
              "   {'year': 2015, 'month': 9, 'H(h)_m': 73.73, 'T2m': 12.9},\n",
              "   {'year': 2015, 'month': 10, 'H(h)_m': 45.57, 'T2m': 7.0},\n",
              "   {'year': 2015, 'month': 11, 'H(h)_m': 13.3, 'T2m': 4.5},\n",
              "   {'year': 2015, 'month': 12, 'H(h)_m': 6.85, 'T2m': 3.5},\n",
              "   {'year': 2016, 'month': 1, 'H(h)_m': 10.02, 'T2m': -4.3},\n",
              "   {'year': 2016, 'month': 2, 'H(h)_m': 32.46, 'T2m': -0.6},\n",
              "   {'year': 2016, 'month': 3, 'H(h)_m': 64.75, 'T2m': 2.4},\n",
              "   {'year': 2016, 'month': 4, 'H(h)_m': 119.33, 'T2m': 5.3},\n",
              "   {'year': 2016, 'month': 5, 'H(h)_m': 172.66, 'T2m': 12.3},\n",
              "   {'year': 2016, 'month': 6, 'H(h)_m': 175.55, 'T2m': 15.8},\n",
              "   {'year': 2016, 'month': 7, 'H(h)_m': 178.84, 'T2m': 18.0},\n",
              "   {'year': 2016, 'month': 8, 'H(h)_m': 122.08, 'T2m': 16.5},\n",
              "   {'year': 2016, 'month': 9, 'H(h)_m': 88.14, 'T2m': 14.4},\n",
              "   {'year': 2016, 'month': 10, 'H(h)_m': 34.34, 'T2m': 7.0},\n",
              "   {'year': 2016, 'month': 11, 'H(h)_m': 13.53, 'T2m': 2.1},\n",
              "   {'year': 2016, 'month': 12, 'H(h)_m': 7.21, 'T2m': 1.9}]},\n",
              " 'meta': {'inputs': {'location': {'description': 'Selected location',\n",
              "    'variables': {'latitude': {'description': 'Latitude',\n",
              "      'units': 'decimal degree'},\n",
              "     'longitude': {'description': 'Longitude', 'units': 'decimal degree'},\n",
              "     'elevation': {'description': 'Elevation', 'units': 'm'}}},\n",
              "   'meteo_data': {'description': 'Sources of meteorological data',\n",
              "    'variables': {'radiation_db': {'description': 'Solar radiation database'},\n",
              "     'meteo_db': {'description': 'Database used for meteorological variables other than solar radiation'},\n",
              "     'year_min': {'description': 'First year of the calculations'},\n",
              "     'year_max': {'description': 'Last year of the calculations'},\n",
              "     'use_horizon': {'description': 'Include horizon shadows'},\n",
              "     'horizon_db': {'description': 'Source of horizon data'}}},\n",
              "   'plane': {'description': 'plane',\n",
              "    'fields': {'slope': {'description': 'Inclination angle from the horizontal plane',\n",
              "      'units': 'degree'},\n",
              "     'azimuth': {'description': 'Orientation (azimuth) angle of the (fixed) PV system (0 = S, 90 = W, -90 = E)',\n",
              "      'units': 'degree'}}}},\n",
              "  'outputs': {'monthly': {'type': 'time series',\n",
              "    'timestamp': 'monthly averages',\n",
              "    'variables': {'H(h)_m': {'description': 'Irradiation on horizontal plane',\n",
              "      'units': 'kWh/m2/mo'},\n",
              "     'T2m': {'description': '24 hour average of temperature',\n",
              "      'units': 'degree Celsius'}}}}}}"
            ]
          },
          "metadata": {},
          "execution_count": 22
        }
      ]
    },
    {
      "cell_type": "markdown",
      "source": [
        "## PV components"
      ],
      "metadata": {
        "id": "X44CQKwGe-ga"
      },
      "id": "X44CQKwGe-ga"
    },
    {
      "cell_type": "code",
      "execution_count": 14,
      "id": "8d2e43e4-5172-43e3-8514-ad68897b329d",
      "metadata": {
        "id": "8d2e43e4-5172-43e3-8514-ad68897b329d",
        "outputId": "8f5b0c73-d049-4b0e-cba2-302dad7ea32e",
        "colab": {
          "base_uri": "https://localhost:8080/"
        }
      },
      "outputs": [
        {
          "output_type": "stream",
          "name": "stderr",
          "text": [
            "/usr/local/lib/python3.10/dist-packages/pvlib/pvsystem.py:2085: UserWarning: Original names contain 29 duplicate(s).\n",
            "  warnings.warn('Original names contain %d duplicate(s).' % n_duplicates)\n",
            "/usr/local/lib/python3.10/dist-packages/pvlib/pvsystem.py:2089: UserWarning: Normalized names contain 29 duplicate(s).\n",
            "  warnings.warn(\n"
          ]
        }
      ],
      "source": [
        "from pvlib import pvsystem\n",
        "#import the components databases as pandas Dataframes formated so that pvlib can use\n",
        "moddb = pvsystem.retrieve_sam(path = 'CEC Modules.csv')\n",
        "invdb = pvsystem.retrieve_sam(path = 'CEC Inverters.csv')\n",
        "\n",
        "#select the module and inverter we will be using\n",
        "pv_module = moddb['Trina_Solar_TSM_670DEG21C_20']\n",
        "inverter = invdb['Sungrow_Power_Supply_Co___Ltd___SG250HX_US__800V_']\n"
      ]
    }
  ],
  "metadata": {
    "kernelspec": {
      "display_name": "Python 3 (ipykernel)",
      "language": "python",
      "name": "python3"
    },
    "language_info": {
      "codemirror_mode": {
        "name": "ipython",
        "version": 3
      },
      "file_extension": ".py",
      "mimetype": "text/x-python",
      "name": "python",
      "nbconvert_exporter": "python",
      "pygments_lexer": "ipython3",
      "version": "3.12.1"
    },
    "colab": {
      "provenance": [],
      "include_colab_link": true
    }
  },
  "nbformat": 4,
  "nbformat_minor": 5
}