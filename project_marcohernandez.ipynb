{
  "cells": [
    {
      "cell_type": "markdown",
      "metadata": {
        "id": "view-in-github",
        "colab_type": "text"
      },
      "source": [
        "<a href=\"https://colab.research.google.com/github/hvmarco/PV-feasibility/blob/main/project_marcohernandez.ipynb\" target=\"_parent\"><img src=\"https://colab.research.google.com/assets/colab-badge.svg\" alt=\"Open In Colab\"/></a>"
      ]
    },
    {
      "cell_type": "markdown",
      "id": "c2a4387f-baa1-4cd9-9a97-5458d4ac8216",
      "metadata": {
        "id": "c2a4387f-baa1-4cd9-9a97-5458d4ac8216"
      },
      "source": [
        "# PV feasibility analysis\n",
        "This is the project for the course <i>Python Foundations for Spatial Analysis (2024)</i> taught by Ujaval Gandhi and: Vigna Purohi at Spatial Thoughts."
      ]
    },
    {
      "cell_type": "markdown",
      "source": [
        "First we need to install some additional libraries and import them."
      ],
      "metadata": {
        "id": "St20S2qaXKFJ"
      },
      "id": "St20S2qaXKFJ"
    },
    {
      "cell_type": "code",
      "execution_count": 1,
      "id": "4293820e-6f02-4135-931a-369585794f03",
      "metadata": {
        "id": "4293820e-6f02-4135-931a-369585794f03"
      },
      "outputs": [],
      "source": [
        "#install and import necessary packages\n",
        "%%capture\n",
        "# use %%capture to prevent printing the output of the cell\n",
        "!pip install numpy-financial\n",
        "!pip install pvlib[optional]\n",
        "\n",
        "import numpy as np\n",
        "import numpy_financial as npf #to use financial functions in numpy\n",
        "import matplotlib.pyplot as plt\n",
        "import pandas as pd\n",
        "import geopandas as gpd\n",
        "import pvlib    #toolbox for simulating the performance of photovoltaic energy systems https://pvlib-python.readthedocs.io/en/stable/index.html#\n"
      ]
    },
    {
      "cell_type": "markdown",
      "source": [
        "Since we will be using some files with the data, we clone the repository in the colab environment to import them"
      ],
      "metadata": {
        "id": "1cZf9dKEa3RH"
      },
      "id": "1cZf9dKEa3RH"
    },
    {
      "cell_type": "code",
      "source": [
        "%%capture\n",
        "#clone the repository to include the files needed\n",
        "!git clone https://github.com/hvmarco/PV-feasibility.git"
      ],
      "metadata": {
        "id": "0PaW9nEBaGZz"
      },
      "id": "0PaW9nEBaGZz",
      "execution_count": 7,
      "outputs": []
    },
    {
      "cell_type": "code",
      "execution_count": 6,
      "id": "8d2e43e4-5172-43e3-8514-ad68897b329d",
      "metadata": {
        "id": "8d2e43e4-5172-43e3-8514-ad68897b329d",
        "outputId": "68934951-07f9-4571-c233-0581ba413d86",
        "colab": {
          "base_uri": "https://localhost:8080/"
        }
      },
      "outputs": [
        {
          "output_type": "stream",
          "name": "stderr",
          "text": [
            "/usr/local/lib/python3.10/dist-packages/pvlib/pvsystem.py:2085: UserWarning: Original names contain 29 duplicate(s).\n",
            "  warnings.warn('Original names contain %d duplicate(s).' % n_duplicates)\n",
            "/usr/local/lib/python3.10/dist-packages/pvlib/pvsystem.py:2089: UserWarning: Normalized names contain 29 duplicate(s).\n",
            "  warnings.warn(\n"
          ]
        }
      ],
      "source": [
        "from pvlib import pvsystem\n",
        "#import the components databases\n",
        "moddb = pvsystem.retrieve_sam(path = 'PV-feasibility/CEC Modules.csv')\n",
        "invdb = pvsystem.retrieve_sam(path = 'PV-feasibility/CEC Inverters.csv')\n",
        "\n",
        "#select the module and inverter we will be using\n",
        "pv_module = moddb['Trina_Solar_TSM_670DEG21C_20']\n",
        "inverter = invdb['Sungrow_Power_Supply_Co___Ltd___SG250HX_US__800V_']\n"
      ]
    },
    {
      "cell_type": "markdown",
      "source": [
        "# New Section"
      ],
      "metadata": {
        "id": "CNBQfGu8Wm58"
      },
      "id": "CNBQfGu8Wm58"
    },
    {
      "cell_type": "code",
      "execution_count": 8,
      "id": "c7a564f1-4cc9-48d6-b194-b3debc03c958",
      "metadata": {
        "id": "c7a564f1-4cc9-48d6-b194-b3debc03c958",
        "outputId": "0c5b363f-fd83-4cd0-e48c-347442dc0ce0",
        "colab": {
          "base_uri": "https://localhost:8080/"
        }
      },
      "outputs": [
        {
          "output_type": "execute_result",
          "data": {
            "text/plain": [
              "Manufacturer    Trina Solar\n",
              "Technology        Mono-c-Si\n",
              "Bifacial                  1\n",
              "STC                 671.055\n",
              "PTC                   632.8\n",
              "A_c                    3.08\n",
              "Length                  NaN\n",
              "Width                   NaN\n",
              "N_s                      66\n",
              "I_sc_ref              18.55\n",
              "V_oc_ref               46.3\n",
              "I_mp_ref              17.43\n",
              "V_mp_ref               38.5\n",
              "alpha_sc           0.006307\n",
              "beta_oc           -0.106953\n",
              "T_NOCT                 44.6\n",
              "a_ref               1.60651\n",
              "I_L_ref             18.5766\n",
              "I_o_ref                 0.0\n",
              "R_s                0.155978\n",
              "R_sh_ref             108.82\n",
              "Adjust              6.72645\n",
              "gamma_r              -0.303\n",
              "BIPV                      N\n",
              "Version          2023.10.31\n",
              "Date             11/16/2022\n",
              "Name: Trina_Solar_TSM_670DEG21C_20, dtype: object"
            ]
          },
          "metadata": {},
          "execution_count": 8
        }
      ],
      "source": [
        "pv_module"
      ]
    },
    {
      "cell_type": "code",
      "execution_count": null,
      "id": "b19eca1b-3bd7-4a23-947f-1ae095ab9490",
      "metadata": {
        "id": "b19eca1b-3bd7-4a23-947f-1ae095ab9490"
      },
      "outputs": [],
      "source": []
    }
  ],
  "metadata": {
    "kernelspec": {
      "display_name": "Python 3 (ipykernel)",
      "language": "python",
      "name": "python3"
    },
    "language_info": {
      "codemirror_mode": {
        "name": "ipython",
        "version": 3
      },
      "file_extension": ".py",
      "mimetype": "text/x-python",
      "name": "python",
      "nbconvert_exporter": "python",
      "pygments_lexer": "ipython3",
      "version": "3.12.1"
    },
    "colab": {
      "provenance": [],
      "include_colab_link": true
    }
  },
  "nbformat": 4,
  "nbformat_minor": 5
}