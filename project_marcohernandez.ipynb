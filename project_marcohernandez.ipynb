{
 "cells": [
  {
   "cell_type": "markdown",
   "id": "c2a4387f-baa1-4cd9-9a97-5458d4ac8216",
   "metadata": {},
   "source": [
    "<h2>PV feasibility analysis</h2>\n",
    "This is the project for the course <i>Python Foundations for Spatial Analysis (2024)</i> taught by Ujaval Gandhi and: Vigna Purohi at Spatial Thoughts.t"
   ]
  },
  {
   "cell_type": "code",
   "execution_count": 6,
   "id": "4293820e-6f02-4135-931a-369585794f03",
   "metadata": {},
   "outputs": [],
   "source": [
    "#import necessary packages\n",
    "\n",
    "import numpy as np\n",
    "import numpy_financial as npf #to use financial functions in numpy\n",
    "import matplotlib.pyplot as plt \n",
    "import pandas as pd\n",
    "import geopandas as gpd\n",
    "\n",
    "import pvlib   #toolbox for simulating the performance of photovoltaic energy systems https://pvlib-python.readthedocs.io/en/stable/index.html#"
   ]
  },
  {
   "cell_type": "code",
   "execution_count": 4,
   "id": "8d2e43e4-5172-43e3-8514-ad68897b329d",
   "metadata": {},
   "outputs": [
    {
     "name": "stderr",
     "output_type": "stream",
     "text": [
      "C:\\anaconda3\\envs\\python_foundation\\Lib\\site-packages\\pvlib\\pvsystem.py:2085: UserWarning: Original names contain 29 duplicate(s).\n",
      "  warnings.warn('Original names contain %d duplicate(s).' % n_duplicates)\n",
      "C:\\anaconda3\\envs\\python_foundation\\Lib\\site-packages\\pvlib\\pvsystem.py:2089: UserWarning: Normalized names contain 29 duplicate(s).\n",
      "  warnings.warn(\n"
     ]
    }
   ],
   "source": [
    "from pvlib import pvsystem\n",
    "moddb = pvsystem.retrieve_sam(path = 'CEC Modules.csv')\n",
    "invdb = pvsystem.retrieve_sam(path = 'CEC Inverters.csv')\n",
    "\n",
    "pv_module = moddb['Trina_Solar_TSM_670DEG21C_20']\n",
    "inverter = invdb['Sungrow_Power_Supply_Co___Ltd___SG250HX_US__800V_']\n"
   ]
  },
  {
   "cell_type": "code",
   "execution_count": 5,
   "id": "c7a564f1-4cc9-48d6-b194-b3debc03c958",
   "metadata": {},
   "outputs": [
    {
     "data": {
      "text/plain": [
       "Manufacturer    Trina Solar\n",
       "Technology        Mono-c-Si\n",
       "Bifacial                  1\n",
       "STC                 671.055\n",
       "PTC                   632.8\n",
       "A_c                    3.08\n",
       "Length                  NaN\n",
       "Width                   NaN\n",
       "N_s                      66\n",
       "I_sc_ref              18.55\n",
       "V_oc_ref               46.3\n",
       "I_mp_ref              17.43\n",
       "V_mp_ref               38.5\n",
       "alpha_sc           0.006307\n",
       "beta_oc           -0.106953\n",
       "T_NOCT                 44.6\n",
       "a_ref               1.60651\n",
       "I_L_ref             18.5766\n",
       "I_o_ref                 0.0\n",
       "R_s                0.155978\n",
       "R_sh_ref             108.82\n",
       "Adjust              6.72645\n",
       "gamma_r              -0.303\n",
       "BIPV                      N\n",
       "Version          2023.10.31\n",
       "Date             11/16/2022\n",
       "Name: Trina_Solar_TSM_670DEG21C_20, dtype: object"
      ]
     },
     "execution_count": 5,
     "metadata": {},
     "output_type": "execute_result"
    }
   ],
   "source": [
    "pv_module"
   ]
  },
  {
   "cell_type": "code",
   "execution_count": null,
   "id": "b19eca1b-3bd7-4a23-947f-1ae095ab9490",
   "metadata": {},
   "outputs": [],
   "source": []
  }
 ],
 "metadata": {
  "kernelspec": {
   "display_name": "Python 3 (ipykernel)",
   "language": "python",
   "name": "python3"
  },
  "language_info": {
   "codemirror_mode": {
    "name": "ipython",
    "version": 3
   },
   "file_extension": ".py",
   "mimetype": "text/x-python",
   "name": "python",
   "nbconvert_exporter": "python",
   "pygments_lexer": "ipython3",
   "version": "3.12.1"
  }
 },
 "nbformat": 4,
 "nbformat_minor": 5
}
