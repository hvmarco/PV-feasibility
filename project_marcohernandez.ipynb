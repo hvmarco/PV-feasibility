{
  "cells": [
    {
      "cell_type": "markdown",
      "metadata": {
        "id": "view-in-github",
        "colab_type": "text"
      },
      "source": [
        "<a href=\"https://colab.research.google.com/github/hvmarco/PV-feasibility/blob/main/project_marcohernandez.ipynb\" target=\"_parent\"><img src=\"https://colab.research.google.com/assets/colab-badge.svg\" alt=\"Open In Colab\"/></a>"
      ]
    },
    {
      "cell_type": "markdown",
      "id": "c2a4387f-baa1-4cd9-9a97-5458d4ac8216",
      "metadata": {
        "id": "c2a4387f-baa1-4cd9-9a97-5458d4ac8216"
      },
      "source": [
        "<h2>PV feasibility analysis</h2>\n",
        "This is the project for the course <i>Python Foundations for Spatial Analysis (2024)</i> taught by Ujaval Gandhi and: Vigna Purohi at Spatial Thoughts.t"
      ]
    },
    {
      "cell_type": "code",
      "execution_count": 1,
      "id": "4293820e-6f02-4135-931a-369585794f03",
      "metadata": {
        "id": "4293820e-6f02-4135-931a-369585794f03",
        "outputId": "984b00fb-878a-457f-b18f-ca50fe7cafed",
        "colab": {
          "base_uri": "https://localhost:8080/",
          "height": 560
        }
      },
      "outputs": [
        {
          "output_type": "stream",
          "name": "stdout",
          "text": [
            "Collecting numpy-financial\n",
            "  Downloading numpy_financial-1.0.0-py3-none-any.whl.metadata (2.2 kB)\n",
            "Collecting numpy>=1.15 (from numpy-financial)\n",
            "  Downloading numpy-1.26.4-cp310-cp310-manylinux_2_17_x86_64.manylinux2014_x86_64.whl.metadata (61 kB)\n",
            "\u001b[2K     \u001b[90m━━━━━━━━━━━━━━━━━━━━━━━━━━━━━━━━━━━━━━━━\u001b[0m \u001b[32m61.0/61.0 kB\u001b[0m \u001b[31m2.0 MB/s\u001b[0m eta \u001b[36m0:00:00\u001b[0m\n",
            "\u001b[?25hDownloading numpy_financial-1.0.0-py3-none-any.whl (14 kB)\n",
            "Downloading numpy-1.26.4-cp310-cp310-manylinux_2_17_x86_64.manylinux2014_x86_64.whl (18.2 MB)\n",
            "\u001b[2K   \u001b[90m━━━━━━━━━━━━━━━━━━━━━━━━━━━━━━━━━━━━━━━━\u001b[0m \u001b[32m18.2/18.2 MB\u001b[0m \u001b[31m37.0 MB/s\u001b[0m eta \u001b[36m0:00:00\u001b[0m\n",
            "\u001b[?25hInstalling collected packages: numpy, numpy-financial\n",
            "Successfully installed numpy-1.26.4 numpy-financial-1.0.0\n",
            "\u001b[33mWARNING: Running pip as the 'root' user can result in broken permissions and conflicting behaviour with the system package manager. It is recommended to use a virtual environment instead: https://pip.pypa.io/warnings/venv\u001b[0m\u001b[33m\n",
            "\u001b[0m"
          ]
        },
        {
          "output_type": "error",
          "ename": "ModuleNotFoundError",
          "evalue": "No module named 'pvlib'",
          "traceback": [
            "\u001b[0;31m---------------------------------------------------------------------------\u001b[0m",
            "\u001b[0;31mModuleNotFoundError\u001b[0m                       Traceback (most recent call last)",
            "\u001b[0;32m<ipython-input-1-6a389b052278>\u001b[0m in \u001b[0;36m<cell line: 10>\u001b[0;34m()\u001b[0m\n\u001b[1;32m      8\u001b[0m \u001b[0;32mimport\u001b[0m \u001b[0mgeopandas\u001b[0m \u001b[0;32mas\u001b[0m \u001b[0mgpd\u001b[0m\u001b[0;34m\u001b[0m\u001b[0;34m\u001b[0m\u001b[0m\n\u001b[1;32m      9\u001b[0m \u001b[0;34m\u001b[0m\u001b[0m\n\u001b[0;32m---> 10\u001b[0;31m \u001b[0;32mimport\u001b[0m \u001b[0mpvlib\u001b[0m   \u001b[0;31m#toolbox for simulating the performance of photovoltaic energy systems https://pvlib-python.readthedocs.io/en/stable/index.html#\u001b[0m\u001b[0;34m\u001b[0m\u001b[0;34m\u001b[0m\u001b[0m\n\u001b[0m",
            "\u001b[0;31mModuleNotFoundError\u001b[0m: No module named 'pvlib'",
            "",
            "\u001b[0;31m---------------------------------------------------------------------------\u001b[0;32m\nNOTE: If your import is failing due to a missing package, you can\nmanually install dependencies using either !pip or !apt.\n\nTo view examples of installing some common dependencies, click the\n\"Open Examples\" button below.\n\u001b[0;31m---------------------------------------------------------------------------\u001b[0m\n"
          ],
          "errorDetails": {
            "actions": [
              {
                "action": "open_url",
                "actionText": "Open Examples",
                "url": "/notebooks/snippets/importing_libraries.ipynb"
              }
            ]
          }
        }
      ],
      "source": [
        "#install and import necessary packages\n",
        "!pip install numpy-financial\n",
        "\n",
        "import numpy as np\n",
        "import numpy_financial as npf #to use financial functions in numpy\n",
        "import matplotlib.pyplot as plt\n",
        "import pandas as pd\n",
        "import geopandas as gpd\n",
        "\n",
        "import pvlib   #toolbox for simulating the performance of photovoltaic energy systems https://pvlib-python.readthedocs.io/en/stable/index.html#"
      ]
    },
    {
      "cell_type": "code",
      "execution_count": null,
      "id": "8d2e43e4-5172-43e3-8514-ad68897b329d",
      "metadata": {
        "id": "8d2e43e4-5172-43e3-8514-ad68897b329d",
        "outputId": "b213f3a1-6187-4321-d55c-56ecc50f2ba7"
      },
      "outputs": [
        {
          "name": "stderr",
          "output_type": "stream",
          "text": [
            "C:\\anaconda3\\envs\\python_foundation\\Lib\\site-packages\\pvlib\\pvsystem.py:2085: UserWarning: Original names contain 29 duplicate(s).\n",
            "  warnings.warn('Original names contain %d duplicate(s).' % n_duplicates)\n",
            "C:\\anaconda3\\envs\\python_foundation\\Lib\\site-packages\\pvlib\\pvsystem.py:2089: UserWarning: Normalized names contain 29 duplicate(s).\n",
            "  warnings.warn(\n"
          ]
        }
      ],
      "source": [
        "from pvlib import pvsystem\n",
        "moddb = pvsystem.retrieve_sam(path = 'CEC Modules.csv')\n",
        "invdb = pvsystem.retrieve_sam(path = 'CEC Inverters.csv')\n",
        "\n",
        "pv_module = moddb['Trina_Solar_TSM_670DEG21C_20']\n",
        "inverter = invdb['Sungrow_Power_Supply_Co___Ltd___SG250HX_US__800V_']\n"
      ]
    },
    {
      "cell_type": "code",
      "execution_count": null,
      "id": "c7a564f1-4cc9-48d6-b194-b3debc03c958",
      "metadata": {
        "id": "c7a564f1-4cc9-48d6-b194-b3debc03c958",
        "outputId": "08cacb1a-c540-4785-fd18-c6dfde7e146e"
      },
      "outputs": [
        {
          "data": {
            "text/plain": [
              "Manufacturer    Trina Solar\n",
              "Technology        Mono-c-Si\n",
              "Bifacial                  1\n",
              "STC                 671.055\n",
              "PTC                   632.8\n",
              "A_c                    3.08\n",
              "Length                  NaN\n",
              "Width                   NaN\n",
              "N_s                      66\n",
              "I_sc_ref              18.55\n",
              "V_oc_ref               46.3\n",
              "I_mp_ref              17.43\n",
              "V_mp_ref               38.5\n",
              "alpha_sc           0.006307\n",
              "beta_oc           -0.106953\n",
              "T_NOCT                 44.6\n",
              "a_ref               1.60651\n",
              "I_L_ref             18.5766\n",
              "I_o_ref                 0.0\n",
              "R_s                0.155978\n",
              "R_sh_ref             108.82\n",
              "Adjust              6.72645\n",
              "gamma_r              -0.303\n",
              "BIPV                      N\n",
              "Version          2023.10.31\n",
              "Date             11/16/2022\n",
              "Name: Trina_Solar_TSM_670DEG21C_20, dtype: object"
            ]
          },
          "execution_count": 5,
          "metadata": {},
          "output_type": "execute_result"
        }
      ],
      "source": [
        "pv_module"
      ]
    },
    {
      "cell_type": "code",
      "execution_count": null,
      "id": "b19eca1b-3bd7-4a23-947f-1ae095ab9490",
      "metadata": {
        "id": "b19eca1b-3bd7-4a23-947f-1ae095ab9490"
      },
      "outputs": [],
      "source": []
    }
  ],
  "metadata": {
    "kernelspec": {
      "display_name": "Python 3 (ipykernel)",
      "language": "python",
      "name": "python3"
    },
    "language_info": {
      "codemirror_mode": {
        "name": "ipython",
        "version": 3
      },
      "file_extension": ".py",
      "mimetype": "text/x-python",
      "name": "python",
      "nbconvert_exporter": "python",
      "pygments_lexer": "ipython3",
      "version": "3.12.1"
    },
    "colab": {
      "provenance": [],
      "toc_visible": true,
      "include_colab_link": true
    }
  },
  "nbformat": 4,
  "nbformat_minor": 5
}