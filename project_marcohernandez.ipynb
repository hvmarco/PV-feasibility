{
  "cells": [
    {
      "cell_type": "markdown",
      "metadata": {
        "id": "view-in-github",
        "colab_type": "text"
      },
      "source": [
        "<a href=\"https://colab.research.google.com/github/hvmarco/PV-feasibility/blob/main/project_marcohernandez.ipynb\" target=\"_parent\"><img src=\"https://colab.research.google.com/assets/colab-badge.svg\" alt=\"Open In Colab\"/></a>"
      ]
    },
    {
      "cell_type": "markdown",
      "id": "c2a4387f-baa1-4cd9-9a97-5458d4ac8216",
      "metadata": {
        "id": "c2a4387f-baa1-4cd9-9a97-5458d4ac8216"
      },
      "source": [
        "# PV feasibility analysis\n",
        "This is the project for the course <i>Python Foundations for Spatial Analysis (2024)</i> taught by Ujaval Gandhi and: Vigna Purohi at Spatial Thoughts."
      ]
    },
    {
      "cell_type": "markdown",
      "source": [
        "## Setup and data download"
      ],
      "metadata": {
        "id": "nct_k_Ntb3z-"
      },
      "id": "nct_k_Ntb3z-"
    },
    {
      "cell_type": "markdown",
      "source": [
        "First we need to install some additional libraries and import them."
      ],
      "metadata": {
        "id": "St20S2qaXKFJ"
      },
      "id": "St20S2qaXKFJ"
    },
    {
      "cell_type": "code",
      "execution_count": 1,
      "id": "4293820e-6f02-4135-931a-369585794f03",
      "metadata": {
        "id": "4293820e-6f02-4135-931a-369585794f03"
      },
      "outputs": [],
      "source": [
        "#install and import necessary packages\n",
        "%%capture\n",
        "# use %%capture to prevent printing the output of the cell\n",
        "!pip install numpy-financial #to use financial functions previously in numpy\n",
        "!pip install pvlib[optional]  #toolbox for simulating the performance of photovoltaic energy systems https://pvlib-python.readthedocs.io/en/stable/index.html#\n",
        "\n",
        "import numpy as np\n",
        "import numpy_financial as npf\n",
        "import matplotlib.pyplot as plt\n",
        "import pandas as pd\n",
        "import geopandas as gpd\n",
        "import pvlib\n"
      ]
    },
    {
      "cell_type": "markdown",
      "source": [
        "Since we will be using some files with the data (location, components, etc), we clone the repository in the colab environment to import them."
      ],
      "metadata": {
        "id": "1cZf9dKEa3RH"
      },
      "id": "1cZf9dKEa3RH"
    },
    {
      "cell_type": "code",
      "source": [
        "%%capture\n",
        "#clone the repository to include the files needed\n",
        "!git clone https://github.com/hvmarco/PV-feasibility.git\n"
      ],
      "metadata": {
        "id": "0PaW9nEBaGZz"
      },
      "id": "0PaW9nEBaGZz",
      "execution_count": 2,
      "outputs": []
    },
    {
      "cell_type": "code",
      "source": [
        "#change the path in colab so we can access the files\n",
        "DATA_FOLDER = 'PV-feasibility'\n",
        "%cd $DATA_FOLDER"
      ],
      "metadata": {
        "colab": {
          "base_uri": "https://localhost:8080/"
        },
        "id": "rmBBDLVMc3WZ",
        "outputId": "81eb6dd6-7d7d-41fc-8305-eaed80eea57c"
      },
      "id": "rmBBDLVMc3WZ",
      "execution_count": 3,
      "outputs": [
        {
          "output_type": "stream",
          "name": "stdout",
          "text": [
            "/content/PV-feasibility\n"
          ]
        }
      ]
    },
    {
      "cell_type": "markdown",
      "source": [
        "## Define location"
      ],
      "metadata": {
        "id": "CNBQfGu8Wm58"
      },
      "id": "CNBQfGu8Wm58"
    },
    {
      "cell_type": "code",
      "source": [
        "import time\n",
        "for x in range(3):\n",
        "    print(x)\n",
        "    time.sleep(2) #like this we can ensure that we only send 30 requests per minute"
      ],
      "metadata": {
        "colab": {
          "base_uri": "https://localhost:8080/"
        },
        "id": "ocBxcPHsfOLx",
        "outputId": "48b628c2-9ded-4ca2-d9b1-115034cf6741"
      },
      "id": "ocBxcPHsfOLx",
      "execution_count": 10,
      "outputs": [
        {
          "output_type": "stream",
          "name": "stdout",
          "text": [
            "0\n",
            "1\n",
            "2\n"
          ]
        }
      ]
    },
    {
      "cell_type": "code",
      "source": [
        "# PVGIS has a limit of 30 calls/second\n",
        "url_base = f\"https://re.jrc.ec.europa.eu/api/MRcalc?\"\n",
        "\n",
        "lat=45\n",
        "lon=8\n",
        "\n",
        "#----- set API call parameters ------------------\n",
        "pvgis_params = dict(\n",
        "    lat=lat,\n",
        "    lon=lon,\n",
        "    usehorizon=1,\n",
        "    raddatabase='PVGIS-ERA5',\n",
        "    horirrad=1,\n",
        "    avtemp=1,\n",
        "    outputformat='json',)\n",
        "\n",
        "params = \"&\".join([f'{key}={value}' for key, value in pvgis_params.items()])\n",
        "url_pvcalc = f'{url_base}&{params}'\n",
        "params\n"
      ],
      "metadata": {
        "colab": {
          "base_uri": "https://localhost:8080/",
          "height": 35
        },
        "id": "owfsDPRVmfxH",
        "outputId": "1606155c-a065-46f3-8344-5526f4304bbd"
      },
      "id": "owfsDPRVmfxH",
      "execution_count": 7,
      "outputs": [
        {
          "output_type": "execute_result",
          "data": {
            "text/plain": [
              "'lat=45&lon=8&usehorizon=1&raddatabase=PVGIS-ERA5&horirrad=1&avtemp=1&outputformat=json'"
            ],
            "application/vnd.google.colaboratory.intrinsic+json": {
              "type": "string"
            }
          },
          "metadata": {},
          "execution_count": 7
        }
      ]
    },
    {
      "cell_type": "code",
      "source": [
        "df_csv['url_cw'] = url_pvcalc + '&aspect=' + df_csv['azimuth_cw'].map(str) + '&lat=' + df_csv['lat'].map(str) + '&lon=' + df_csv['lon'].map(str)\n",
        "df_csv['url_aw'] = url_pvcalc + '&aspect=' + df_csv['azimuth_aw'].map(str) + '&lat=' + df_csv['lat'].map(str) + '&lon=' + df_csv['lon'].map(str)"
      ],
      "metadata": {
        "id": "XEzO2ZHlLMEy",
        "outputId": "02024c8b-536d-4957-9fea-dcdd557b7e2a",
        "colab": {
          "base_uri": "https://localhost:8080/",
          "height": 159
        }
      },
      "id": "XEzO2ZHlLMEy",
      "execution_count": 17,
      "outputs": [
        {
          "output_type": "error",
          "ename": "NameError",
          "evalue": "name 'df_csv' is not defined",
          "traceback": [
            "\u001b[0;31m---------------------------------------------------------------------------\u001b[0m",
            "\u001b[0;31mNameError\u001b[0m                                 Traceback (most recent call last)",
            "\u001b[0;32m<ipython-input-17-d6ec81b6cc1e>\u001b[0m in \u001b[0;36m<cell line: 1>\u001b[0;34m()\u001b[0m\n\u001b[0;32m----> 1\u001b[0;31m \u001b[0mdf_csv\u001b[0m\u001b[0;34m[\u001b[0m\u001b[0;34m'url_cw'\u001b[0m\u001b[0;34m]\u001b[0m \u001b[0;34m=\u001b[0m \u001b[0murl_pvcalc\u001b[0m \u001b[0;34m+\u001b[0m \u001b[0;34m'&aspect='\u001b[0m \u001b[0;34m+\u001b[0m \u001b[0mdf_csv\u001b[0m\u001b[0;34m[\u001b[0m\u001b[0;34m'azimuth_cw'\u001b[0m\u001b[0;34m]\u001b[0m\u001b[0;34m.\u001b[0m\u001b[0mmap\u001b[0m\u001b[0;34m(\u001b[0m\u001b[0mstr\u001b[0m\u001b[0;34m)\u001b[0m \u001b[0;34m+\u001b[0m \u001b[0;34m'&lat='\u001b[0m \u001b[0;34m+\u001b[0m \u001b[0mdf_csv\u001b[0m\u001b[0;34m[\u001b[0m\u001b[0;34m'lat'\u001b[0m\u001b[0;34m]\u001b[0m\u001b[0;34m.\u001b[0m\u001b[0mmap\u001b[0m\u001b[0;34m(\u001b[0m\u001b[0mstr\u001b[0m\u001b[0;34m)\u001b[0m \u001b[0;34m+\u001b[0m \u001b[0;34m'&lon='\u001b[0m \u001b[0;34m+\u001b[0m \u001b[0mdf_csv\u001b[0m\u001b[0;34m[\u001b[0m\u001b[0;34m'lon'\u001b[0m\u001b[0;34m]\u001b[0m\u001b[0;34m.\u001b[0m\u001b[0mmap\u001b[0m\u001b[0;34m(\u001b[0m\u001b[0mstr\u001b[0m\u001b[0;34m)\u001b[0m\u001b[0;34m\u001b[0m\u001b[0;34m\u001b[0m\u001b[0m\n\u001b[0m\u001b[1;32m      2\u001b[0m \u001b[0mdf_csv\u001b[0m\u001b[0;34m[\u001b[0m\u001b[0;34m'url_aw'\u001b[0m\u001b[0;34m]\u001b[0m \u001b[0;34m=\u001b[0m \u001b[0murl_pvcalc\u001b[0m \u001b[0;34m+\u001b[0m \u001b[0;34m'&aspect='\u001b[0m \u001b[0;34m+\u001b[0m \u001b[0mdf_csv\u001b[0m\u001b[0;34m[\u001b[0m\u001b[0;34m'azimuth_aw'\u001b[0m\u001b[0;34m]\u001b[0m\u001b[0;34m.\u001b[0m\u001b[0mmap\u001b[0m\u001b[0;34m(\u001b[0m\u001b[0mstr\u001b[0m\u001b[0;34m)\u001b[0m \u001b[0;34m+\u001b[0m \u001b[0;34m'&lat='\u001b[0m \u001b[0;34m+\u001b[0m \u001b[0mdf_csv\u001b[0m\u001b[0;34m[\u001b[0m\u001b[0;34m'lat'\u001b[0m\u001b[0;34m]\u001b[0m\u001b[0;34m.\u001b[0m\u001b[0mmap\u001b[0m\u001b[0;34m(\u001b[0m\u001b[0mstr\u001b[0m\u001b[0;34m)\u001b[0m \u001b[0;34m+\u001b[0m \u001b[0;34m'&lon='\u001b[0m \u001b[0;34m+\u001b[0m \u001b[0mdf_csv\u001b[0m\u001b[0;34m[\u001b[0m\u001b[0;34m'lon'\u001b[0m\u001b[0;34m]\u001b[0m\u001b[0;34m.\u001b[0m\u001b[0mmap\u001b[0m\u001b[0;34m(\u001b[0m\u001b[0mstr\u001b[0m\u001b[0;34m)\u001b[0m\u001b[0;34m\u001b[0m\u001b[0;34m\u001b[0m\u001b[0m\n",
            "\u001b[0;31mNameError\u001b[0m: name 'df_csv' is not defined"
          ]
        }
      ]
    },
    {
      "cell_type": "code",
      "source": [
        "import json  # To convert a JSON strings from APIS to Python objects\n",
        "import requests # The requests module allows you to send HTTP requests and parse the responses using Python.\n",
        "import time\n",
        "\n",
        "san_francisco = (37.7749, -122.4194)\n",
        "\n",
        "def get_month_rad(source_coordinates):\n",
        "    parameters = {\n",
        "        'lat': source_coordinates[0],\n",
        "        'lon' : source_coordinates[1],\n",
        "        'usehorizon' : 1,\n",
        "        'raddatabase' : 'PVGIS-ERA5',\n",
        "        'horirrad' : 1,\n",
        "        'avtemp' : 1,\n",
        "        'outputformat' :'json'\n",
        "    }\n",
        "\n",
        "    response = requests.get(\n",
        "        'https://re.jrc.ec.europa.eu/api/MRcalc?',\n",
        "        params=parameters)\n",
        "\n",
        "    if response.status_code == 200:\n",
        "        data = response.json()\n",
        "        #summary = data['features'][0]['properties']['summary']\n",
        "        #distance = summary['distance']\n",
        "        return data\n",
        "    else:\n",
        "        print('Request failed.')\n",
        "        return -9999\n",
        "get_month_rad(san_francisco)\n"
      ],
      "metadata": {
        "colab": {
          "base_uri": "https://localhost:8080/"
        },
        "id": "QyM31fDzk1di",
        "outputId": "d8f11c6e-c743-4b7f-cea0-da0f5c7dc534"
      },
      "id": "QyM31fDzk1di",
      "execution_count": 15,
      "outputs": [
        {
          "output_type": "stream",
          "name": "stdout",
          "text": [
            "Request failed.\n"
          ]
        },
        {
          "output_type": "execute_result",
          "data": {
            "text/plain": [
              "-9999"
            ]
          },
          "metadata": {},
          "execution_count": 15
        }
      ]
    },
    {
      "cell_type": "markdown",
      "source": [
        "## PV components"
      ],
      "metadata": {
        "id": "X44CQKwGe-ga"
      },
      "id": "X44CQKwGe-ga"
    },
    {
      "cell_type": "code",
      "execution_count": 14,
      "id": "8d2e43e4-5172-43e3-8514-ad68897b329d",
      "metadata": {
        "id": "8d2e43e4-5172-43e3-8514-ad68897b329d",
        "outputId": "8f5b0c73-d049-4b0e-cba2-302dad7ea32e",
        "colab": {
          "base_uri": "https://localhost:8080/"
        }
      },
      "outputs": [
        {
          "output_type": "stream",
          "name": "stderr",
          "text": [
            "/usr/local/lib/python3.10/dist-packages/pvlib/pvsystem.py:2085: UserWarning: Original names contain 29 duplicate(s).\n",
            "  warnings.warn('Original names contain %d duplicate(s).' % n_duplicates)\n",
            "/usr/local/lib/python3.10/dist-packages/pvlib/pvsystem.py:2089: UserWarning: Normalized names contain 29 duplicate(s).\n",
            "  warnings.warn(\n"
          ]
        }
      ],
      "source": [
        "from pvlib import pvsystem\n",
        "#import the components databases as pandas Dataframes formated so that pvlib can use\n",
        "moddb = pvsystem.retrieve_sam(path = 'CEC Modules.csv')\n",
        "invdb = pvsystem.retrieve_sam(path = 'CEC Inverters.csv')\n",
        "\n",
        "#select the module and inverter we will be using\n",
        "pv_module = moddb['Trina_Solar_TSM_670DEG21C_20']\n",
        "inverter = invdb['Sungrow_Power_Supply_Co___Ltd___SG250HX_US__800V_']\n"
      ]
    }
  ],
  "metadata": {
    "kernelspec": {
      "display_name": "Python 3 (ipykernel)",
      "language": "python",
      "name": "python3"
    },
    "language_info": {
      "codemirror_mode": {
        "name": "ipython",
        "version": 3
      },
      "file_extension": ".py",
      "mimetype": "text/x-python",
      "name": "python",
      "nbconvert_exporter": "python",
      "pygments_lexer": "ipython3",
      "version": "3.12.1"
    },
    "colab": {
      "provenance": [],
      "include_colab_link": true
    }
  },
  "nbformat": 4,
  "nbformat_minor": 5
}